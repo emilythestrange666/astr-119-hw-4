{
 "cells": [
  {
   "cell_type": "code",
   "execution_count": null,
   "metadata": {},
   "outputs": [],
   "source": [
    "%matplotlib inline\n",
    "import numpy as np\n",
    "import matplotlib.pyplot as plt"
   ]
  },
  {
   "cell_type": "markdown",
   "metadata": {},
   "source": [
    "### Define function"
   ]
  },
  {
   "cell_type": "code",
   "execution_count": null,
   "metadata": {},
   "outputs": [],
   "source": [
    "def function_for_roots(x):\n",
    "    a = 1.01\n",
    "    b = -3.04\n",
    "    c = 2.07\n",
    "    return a*x**2 +b*x +c    #get the roots of ax^2 +bc +c"
   ]
  },
  {
   "cell_type": "markdown",
   "metadata": {},
   "source": [
    "### Define function to check initial values"
   ]
  },
  {
   "cell_type": "code",
   "execution_count": null,
   "metadata": {},
   "outputs": [],
   "source": [
    "def check_initial_values(f, x_min, x_max, tol):\n",
    "    \n",
    "    #check out initial guesses\n",
    "    y_min = f(x_min)\n",
    "    y_max = f(x_max)\n",
    "    \n",
    "    #check that xmin and xmax contain a zero crossing\n",
    "    if(y_min*y_max>=0.0):\n",
    "        print(\"No zero crossing found in the range = \",x_min,x_max)\n",
    "        s = \"f(%f) = %f,f(%f) = %f\" % (x_min,y_min,x_max,y_max)\n",
    "        print(s)\n",
    "        return 0\n",
    "    \n",
    "    #if (x_min is a root, then return flag==1)\n",
    "    if(np.fabs(y_min)<tol):\n",
    "        return 1\n",
    "    #if x_max is a root, then return flag==2\n",
    "    if(np.fabs(y_max)<tol):\n",
    "        return 2\n",
    "    \n",
    "    #if we reach this point, the bracket is valid\n",
    "    #and we will return 3\n",
    "    return 3"
   ]
  },
  {
   "cell_type": "markdown",
   "metadata": {},
   "source": [
    "### Define main work function that wiill perform iteration"
   ]
  },
  {
   "cell_type": "code",
   "execution_count": null,
   "metadata": {},
   "outputs": [],
   "source": [
    "def bisection_root_finding(f, x_min_start, x_max_start, tol):\n",
    "    \n",
    "    #this function uses bisection search to find a root\n",
    "    x_min = x_min_start #minimum x in bracket\n",
    "    x_max = x_max_start #maximum x in bracket\n",
    "    x_min = 0.0\n",
    "    \n",
    "    y_min = f(x_min) #initial y values at bracket\n",
    "    y_max = f(x_max)\n",
    "    y_mid = 0.0\n",
    "    \n",
    "    imax = 10000 #max number of iterations\n",
    "    i = 0        #initial counter i set to 0\n",
    "    \n",
    "    #check the initial values\n",
    "    flag = check_initial_values(f, x_min, x_max, tol)\n",
    "    \n",
    "    if(flag==0):\n",
    "        print(\"Error in bisection_root_finding().\")\n",
    "        raise ValueError('Initial values invald,x_min,x_max)')\n",
    "    elif(flag==1):\n",
    "        #luckyguess\n",
    "        return x_min\n",
    "    elif(flag==2):\n",
    "        #other lucky guess\n",
    "        return x_max\n",
    "    \n",
    "    #if we reach here, then we need to conduct the search\n",
    "    \n",
    "    #set a new flag\n",
    "    flag = 1\n",
    "    \n",
    "    #enter a while loop\n",
    "    while(flag):\n",
    "        x_mid = 0.5*(x_min+x_max)   #mid point\n",
    "        y_mid = f(x_mid)  #value of y at x_mid\n",
    "        \n",
    "        #check if x_mid is a root\n",
    "        if(np.fabs(y_min)<tol):\n",
    "            flag = 0 # we are done!\n",
    "        else:\n",
    "            #x_mid is not a root\n",
    "            \n",
    "            #if the prodcut of the functiona t the midpoint\n",
    "            #and at one of the end points is greater than\n",
    "            #zero, replace this end point\n",
    "            if(f(x_min)*f(x_mid)>0):\n",
    "                #replace x_min with x_mid\n",
    "                x_min = x_mid\n",
    "            else:\n",
    "                #replace x_max with x_mid\n",
    "                x_max = x_mid\n",
    "                \n",
    "        #print out the iteration\n",
    "        print(x_min,f(x_min),x_max,f(x_max))\n",
    "        \n",
    "        #count the iteration\n",
    "        i += 1\n",
    "        \n",
    "        #if we have exceeded the number of iterations\n",
    "        #then exit\n",
    "        if(i>=imax):\n",
    "            print(\"Exceed max number of iterations = \",i)\n",
    "            s = 'Min bracket f(%f)' %(x_min,f(x_min))\n",
    "            print(s)\n",
    "            s = 'Max bracket f(%f)' %(x_mmax,f(x_max))\n",
    "            print(s)\n",
    "            s = 'Mid bracket f(%f)' %(x_mid,f(x_mid))\n",
    "            print(s)\n",
    "            raise StopIteration('Stopping iterations after  ',i)\n",
    "            \n",
    "    #we are done!\n",
    "    return x_mid"
   ]
  },
  {
   "cell_type": "markdown",
   "metadata": {},
   "source": [
    "### Actually perform search now"
   ]
  },
  {
   "cell_type": "code",
   "execution_count": null,
   "metadata": {},
   "outputs": [],
   "source": [
    "x_min = 0.0\n",
    "x_max = 1.5\n",
    "\n",
    "tolerance = 1.0e-6\n",
    "\n",
    "#print the intial guess\n",
    "print(x_min,function_for_roots(x_min))\n",
    "print(x_max,function_for_roots(x_max))\n",
    "\n",
    "#perform the bisection search\n",
    "x_root = bisection_root_finding(function_for_roots,x_min,x_max,tolerance)\n",
    "y_root = function_for_roots(x_root)\n",
    "\n",
    "s= 'Root found with y(%f) = %f' %(x_root,y_root)\n",
    "print(s)"
   ]
  },
  {
   "cell_type": "markdown",
   "metadata": {},
   "source": [
    "### Plot f(x)"
   ]
  },
  {
   "cell_type": "code",
   "execution_count": null,
   "metadata": {},
   "outputs": [],
   "source": [
    "n=1000\n",
    "x = np.linspace(0,3,n)\n",
    "\n",
    "y=0.0*x     #showing the x axis\n",
    "f=1.01*(x**2)-3.04*x+2.07\n",
    "plt.plot(x,y,'--')\n",
    "plt.plot(x,f,label='f(x)=1.01x^2-3.04x+2.07')\n",
    "plt.plot(1.04,0,'ro',color='green')\n",
    "plt.plot(1.97,0,'ro',color='purple')\n",
    "plt.xlim([0,3])\n",
    "plt.ylim([-0.5,2.1])\n",
    "plt.show()"
   ]
  },
  {
   "cell_type": "code",
   "execution_count": null,
   "metadata": {},
   "outputs": [],
   "source": []
  }
 ],
 "metadata": {
  "kernelspec": {
   "display_name": "Python 3",
   "language": "python",
   "name": "python3"
  },
  "language_info": {
   "codemirror_mode": {
    "name": "ipython",
    "version": 3
   },
   "file_extension": ".py",
   "mimetype": "text/x-python",
   "name": "python",
   "nbconvert_exporter": "python",
   "pygments_lexer": "ipython3",
   "version": "3.7.3"
  }
 },
 "nbformat": 4,
 "nbformat_minor": 4
}
